{
 "cells": [
  {
   "cell_type": "markdown",
   "id": "ad7ddc5b",
   "metadata": {},
   "source": [
    "Q1. If you have any, what are your choices for increasing the comparison between different figures on\n",
    "the same graph?\n",
    "\n",
    "\n",
    "\n"
   ]
  },
  {
   "cell_type": "markdown",
   "id": "e8203836",
   "metadata": {},
   "source": [
    "#Ans: \n",
    "\n",
    "Matplotlib provides a convenient method called subplots for increasing the comparison between different figures on the same graph. Subplots mean a group of smaller axes (where each axis is a plot) that can exist together within a single figure."
   ]
  },
  {
   "cell_type": "code",
   "execution_count": 6,
   "id": "eb878b88",
   "metadata": {},
   "outputs": [
    {
     "data": {
      "image/png": "[encoded data removed]",
      "text/plain": [
       "<Figure size 432x288 with 2 Axes>"
      ]
     },
     "metadata": {
      "needs_background": "light"
     },
     "output_type": "display_data"
    }
   ],
   "source": [
    "import matplotlib.pyplot as plt\n",
    "import numpy as np\n",
    "\n",
    "#plot 1:\n",
    "x = np.array([0, 1, 2, 3])\n",
    "y = np.array([4, 1, 6, 2])\n",
    "\n",
    "plt.subplot(1, 2, 1)\n",
    "plt.plot(x,y)\n",
    "\n",
    "#plot 2:\n",
    "x = np.array([0, 1, 2, 3])\n",
    "y = np.array([10, 20, 30, 40])\n",
    "\n",
    "plt.subplot(1, 2, 2)\n",
    "plt.plot(x,y)\n",
    "\n",
    "plt.show()"
   ]
  },
  {
   "cell_type": "markdown",
   "id": "c73a7a4c",
   "metadata": {},
   "source": [
    "Q2. Can you explain the benefit of compound interest over a higher rate of interest that does not\n",
    "compound after reading this chapter?\n"
   ]
  },
  {
   "cell_type": "markdown",
   "id": "3382078a",
   "metadata": {},
   "source": [
    "#ans:\n",
    "\n",
    "Compound interest makes a sum of money grow at a faster rate than simple interest,because in addition to earning returns on the money you invest, you also earn returns on those returns at the end of every compounding period, which could be daily, monthly, quarterly or annually."
   ]
  },
  {
   "cell_type": "markdown",
   "id": "00462051",
   "metadata": {},
   "source": [
    "-----------------------"
   ]
  },
  {
   "cell_type": "markdown",
   "id": "6ad96a34",
   "metadata": {},
   "source": [
    "\n",
    "Q3. What is a histogram, exactly? Name a numpy method for creating such a graph.\n"
   ]
  },
  {
   "cell_type": "markdown",
   "id": "0ebf7f2d",
   "metadata": {},
   "source": [
    "#Ans: \n",
    "Histogram shows total values of X wrt Y. Which means at any particular position of X, Y value shows the total number of counts or data below that value of X. numpy.histogram() is the built in function used."
   ]
  },
  {
   "cell_type": "markdown",
   "id": "1d941b90",
   "metadata": {},
   "source": [
    "--------------------------------"
   ]
  },
  {
   "cell_type": "markdown",
   "id": "f746454b",
   "metadata": {},
   "source": [
    "\n",
    "Q4. If necessary, how do you change the aspect ratios between the X and Y axes?\n",
    "\n"
   ]
  },
  {
   "cell_type": "markdown",
   "id": "f2dfc0cc",
   "metadata": {},
   "source": [
    "#Ans: \n",
    "\n",
    "We can use figure(figsize=(10,8)) function inside the matplot.pyplot library which we scale down or up the graph."
   ]
  },
  {
   "cell_type": "markdown",
   "id": "c247622f",
   "metadata": {},
   "source": [
    "----------------------------"
   ]
  },
  {
   "cell_type": "markdown",
   "id": "b4d32e61",
   "metadata": {},
   "source": [
    "Q5. Compare and contrast the three types of array multiplication between two numpy arrays: dot\n",
    "product, outer product, and regular multiplication of two numpy arrays."
   ]
  },
  {
   "cell_type": "markdown",
   "id": "2623c9fa",
   "metadata": {},
   "source": [
    "#ans: \n",
    "\n",
    "In regular multiplication values of same index get multiplied.\n",
    "\n",
    "In dot product there is row wise multiplication, row of one array with column of second array and so on.\n",
    "In outer multiplication every element of first array a1 will be multiply by every element of other array a2 such such the number of columns will be equal to the number of element in another array a2."
   ]
  },
  {
   "cell_type": "markdown",
   "id": "b2392eaa",
   "metadata": {},
   "source": [
    "-------------------------------"
   ]
  },
  {
   "cell_type": "markdown",
   "id": "772d8863",
   "metadata": {},
   "source": [
    "Q6. Before you buy a home, which numpy function will you use to measure your monthly mortgage\n",
    "payment?\n"
   ]
  },
  {
   "cell_type": "markdown",
   "id": "6d12eabe",
   "metadata": {},
   "source": [
    "#ans: \n",
    "\n",
    "np.pmt(rate, nper, pv) function we will be using in order to calculate monthly mortgage payment before you purchase a house.\n",
    "\n",
    "rate = The periodic interest rate\n",
    "\n",
    "nper = The number of payment periods\n",
    "\n",
    "pv = The total value of the mortgage loan"
   ]
  },
  {
   "cell_type": "markdown",
   "id": "6601cff7",
   "metadata": {},
   "source": [
    "---------------------------"
   ]
  },
  {
   "cell_type": "markdown",
   "id": "efd3bb2b",
   "metadata": {},
   "source": [
    "\n",
    "Q7. Can string data be stored in numpy arrays? If so, list at least one restriction that applies to this\n",
    "data."
   ]
  },
  {
   "cell_type": "markdown",
   "id": "bec0107f",
   "metadata": {},
   "source": [
    "#ans: \n",
    "Yes, an array can store the string. The limitation which imposed on the string data is, whenever we store the data of string dtype then we should keep in mind that the string which is having the maximum length will become the limit."
   ]
  },
  {
   "cell_type": "code",
   "execution_count": 13,
   "id": "6d43fb0d",
   "metadata": {},
   "outputs": [
    {
     "name": "stdout",
     "output_type": "stream",
     "text": [
      "['Apple' 'One+' 'Nokia' '' 'Oppo' 'Vivo']\n",
      "['Apple' 'One+' 'Nokia' 'Samsu' 'Oppo' 'Vivo']\n"
     ]
    }
   ],
   "source": [
    "import numpy as np\n",
    "  \n",
    "phones = np.array(['Apple', 'One+', 'Nokia', '', 'Oppo', 'Vivo'])  \n",
    "print(phones)\n",
    "\n",
    "phones[phones == ''] = 'Samsung'\n",
    "\n",
    "print(phones) #updated list will only returns Samsu as limit of 5 is max in original list\n"
   ]
  },
  {
   "cell_type": "code",
   "execution_count": null,
   "id": "be82d47d",
   "metadata": {},
   "outputs": [],
   "source": []
  }
 ],
 "metadata": {
  "kernelspec": {
   "display_name": "Python 3 (ipykernel)",
   "language": "python",
   "name": "python3"
  },
  "language_info": {
   "codemirror_mode": {
    "name": "ipython",
    "version": 3
   },
   "file_extension": ".py",
   "mimetype": "text/x-python",
   "name": "python",
   "nbconvert_exporter": "python",
   "pygments_lexer": "ipython3",
   "version": "3.9.12"
  }
 },
 "nbformat": 4,
 "nbformat_minor": 5
}
