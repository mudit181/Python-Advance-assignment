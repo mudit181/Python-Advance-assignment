{
 "cells": [
  {
   "cell_type": "markdown",
   "id": "a7fd1b91",
   "metadata": {},
   "source": [
    "Q1. What are the two latest user-defined exception constraints in Python 3.X?\n",
    "\n"
   ]
  },
  {
   "cell_type": "raw",
   "id": "3f100ec4",
   "metadata": {},
   "source": [
    "#ans:\n",
    "raise and assert are the two latest user-defined exception constraints in Python 3.X"
   ]
  },
  {
   "cell_type": "markdown",
   "id": "37c3fa08",
   "metadata": {},
   "source": [
    "Q2. How are class-based exceptions that have been raised matched to handlers?\n"
   ]
  },
  {
   "cell_type": "raw",
   "id": "8c0f4a73",
   "metadata": {},
   "source": [
    "# ans:\n",
    "In python, Users can define custom exceptions by creating a new class. This exception class has to be derived, either directly or indirectly from built-in Exception class. This new exception class like other exceptions can be raised using the raise statement with an optional error message."
   ]
  },
  {
   "cell_type": "code",
   "execution_count": 5,
   "id": "77c55688",
   "metadata": {},
   "outputs": [
    {
     "ename": "test_for_exception",
     "evalue": "this is class based exception",
     "output_type": "error",
     "traceback": [
      "\u001b[1;31m---------------------------------------------------------------------------\u001b[0m",
      "\u001b[1;31mtest_for_exception\u001b[0m                        Traceback (most recent call last)",
      "Input \u001b[1;32mIn [5]\u001b[0m, in \u001b[0;36m<cell line: 6>\u001b[1;34m()\u001b[0m\n\u001b[0;32m      3\u001b[0m         \u001b[38;5;28mself\u001b[39m\u001b[38;5;241m.\u001b[39mname \u001b[38;5;241m=\u001b[39m \u001b[38;5;124m\"\u001b[39m\u001b[38;5;124mmudit\u001b[39m\u001b[38;5;124m\"\u001b[39m\n\u001b[0;32m      5\u001b[0m a \u001b[38;5;241m=\u001b[39m \u001b[38;5;241m10\u001b[39m\n\u001b[1;32m----> 6\u001b[0m \u001b[38;5;28;01mif\u001b[39;00m a \u001b[38;5;241m<\u001b[39m\u001b[38;5;241m=\u001b[39m \u001b[38;5;241m15\u001b[39m: \u001b[38;5;28;01mraise\u001b[39;00m test_for_exception(\u001b[38;5;124m'\u001b[39m\u001b[38;5;124mthis is class based exception\u001b[39m\u001b[38;5;124m'\u001b[39m)\n",
      "\u001b[1;31mtest_for_exception\u001b[0m: this is class based exception"
     ]
    }
   ],
   "source": [
    "class test_for_exception(Exception):\n",
    "    def __init__(self,name):\n",
    "        self.name = \"mudit\"\n",
    "        \n",
    "a = 10\n",
    "if a <= 15: raise test_for_exception('this is class based exception')"
   ]
  },
  {
   "cell_type": "markdown",
   "id": "8a968623",
   "metadata": {},
   "source": [
    "\n",
    "Q3. Describe two methods for attaching context information to exception artefacts.\n",
    "\n"
   ]
  },
  {
   "cell_type": "raw",
   "id": "e969cab4",
   "metadata": {},
   "source": [
    "#ans:\n",
    "\n",
    "The process() method of LoggerAdapter is where the contextual information is added to the logging output. its passes the message and keyword arguments of the logging call, and it passes back modified versions of these to use in the call to the underlying logger.\n",
    "\n",
    "Other method that can be used is exception(), Logs a messgae with level ERROR on this logger. The arguments are interpreted as for debug(). Exception info is added to the logging message."
   ]
  },
  {
   "cell_type": "markdown",
   "id": "b5f25a07",
   "metadata": {},
   "source": [
    "Q4. Describe two methods for specifying the text of an exception object&#39;s error message.\n",
    "\n"
   ]
  },
  {
   "cell_type": "raw",
   "id": "d62abd52",
   "metadata": {},
   "source": [
    "#ans:\n",
    "raise and assert are two methods for specifying the text of an exception object's error message.raise statement is used to trigger explicit exception, if certain condition is not as per requirement of programmer. it helps in triggering exception as per need of programmer and logic.\n",
    "\n",
    "There are few assertions that programmer always want to be True to avoid code failure. This type of requirment is fullfilled by assert statement. This statement takes a Boolean Condition output of which if True, further program executes. if output of assert statement is False it raises an Assertion Error."
   ]
  },
  {
   "cell_type": "markdown",
   "id": "945b34d7",
   "metadata": {},
   "source": [
    "Q5. Why do you no longer use string-based exceptions?"
   ]
  },
  {
   "cell_type": "raw",
   "id": "08c48e66",
   "metadata": {},
   "source": [
    "#ans:\n",
    "String-based Exceptions doesn't inherit from Exceptions. so plain exceptions catch all exceptions and not only system."
   ]
  }
 ],
 "metadata": {
  "kernelspec": {
   "display_name": "Python 3 (ipykernel)",
   "language": "python",
   "name": "python3"
  },
  "language_info": {
   "codemirror_mode": {
    "name": "ipython",
    "version": 3
   },
   "file_extension": ".py",
   "mimetype": "text/x-python",
   "name": "python",
   "nbconvert_exporter": "python",
   "pygments_lexer": "ipython3",
   "version": "3.9.12"
  }
 },
 "nbformat": 4,
 "nbformat_minor": 5
}
