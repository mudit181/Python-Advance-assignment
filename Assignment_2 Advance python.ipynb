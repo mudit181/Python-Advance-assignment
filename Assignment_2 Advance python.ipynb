{
 "cells": [
  {
   "cell_type": "markdown",
   "id": "89d320e3",
   "metadata": {},
   "source": [
    "Q1. What is the relationship between classes and modules?"
   ]
  },
  {
   "cell_type": "raw",
   "id": "54ab3276",
   "metadata": {},
   "source": [
    "Classes are blueprints that allow you to create instances with attributes and bound functionality. Classes support inheritance, metaclasses, and descriptors.\n",
    "Whereas, Modules in python is simply a way to organize and stor the code, and it contains either python classes or just functions. If you need those classes or functions in your project, you just import module and reuse it."
   ]
  },
  {
   "cell_type": "markdown",
   "id": "b5a44f5e",
   "metadata": {},
   "source": [
    "Q2. How do you make instances and classes?\n",
    "\n"
   ]
  },
  {
   "cell_type": "raw",
   "id": "9451944a",
   "metadata": {},
   "source": [
    "#ans\n",
    "\n",
    "To create instances of a class, you call the class using class name and pass in whatever arguments its init method accepts.\n",
    "# this would create first object of Employee class\n",
    "emp1 = Employee(\"mudit\", 10000)\n",
    "# This would create second object of Employee class\"\n",
    "emp2 = Employee(\"rahul\", 5000)\n",
    "\n",
    "\n"
   ]
  },
  {
   "cell_type": "code",
   "execution_count": 5,
   "id": "d68b12ff",
   "metadata": {},
   "outputs": [],
   "source": [
    "# For creating a class, we use the Class keyword. Class keyword is followed by classname and semicolon.\n",
    "class Employee:\n",
    "    def __init__(self, gender,salary): \n",
    "        self.gender = gender\n",
    "        self.salary = salary\n"
   ]
  },
  {
   "cell_type": "markdown",
   "id": "19568841",
   "metadata": {},
   "source": [
    "Q3. Where and how should be class attributes created?\n",
    "\n"
   ]
  },
  {
   "cell_type": "raw",
   "id": "ae4fddaf",
   "metadata": {},
   "source": [
    "#ans\n",
    "Class attributes or Class level Attributes belong to the class itself. these attributes will be shared by all the instances of the class. Hence these attributes are usually created/defined in the top of class definiation outside all methods."
   ]
  },
  {
   "cell_type": "code",
   "execution_count": 12,
   "id": "a63027a7",
   "metadata": {},
   "outputs": [
    {
     "data": {
      "text/plain": [
       "'SUV'"
      ]
     },
     "execution_count": 12,
     "metadata": {},
     "output_type": "execute_result"
    }
   ],
   "source": [
    "class car:\n",
    "    cartype=\"SUV\"    #class attribute\n",
    "    def mycar(self):\n",
    "        pass\n",
    "                \n",
    "a= car()\n",
    "a.cartype\n",
    "\n"
   ]
  },
  {
   "cell_type": "markdown",
   "id": "e2e8c393",
   "metadata": {},
   "source": [
    "Q4. Where and how are instance attributes created?\n"
   ]
  },
  {
   "cell_type": "raw",
   "id": "88dcf026",
   "metadata": {},
   "source": [
    "#ans.\n",
    "Instances attributes are passed to the class when an object of the class is created. Unlike class attributes, instance attributes are not shared by all objects of the classs. Instead each object maintains its own copy of instance attributes at object level whereas incase of class attributes, all instances of class refer to a single copy. Usually instance attributes are defined within the init method of class."
   ]
  },
  {
   "cell_type": "code",
   "execution_count": 26,
   "id": "b6585dda",
   "metadata": {},
   "outputs": [],
   "source": [
    "class car:\n",
    "    cartype=\"SUV\"\n",
    "    def _init_(self,name,color):\n",
    "        self.name = name # instace attribute\n",
    "        self.color = color\n",
    "        \n",
    "a= car()"
   ]
  },
  {
   "cell_type": "markdown",
   "id": "01be794f",
   "metadata": {},
   "source": [
    "\n",
    "Q5. What does the term &quot;self&quot; in a Python class mean?\n",
    "\n"
   ]
  },
  {
   "cell_type": "raw",
   "id": "ebf5396b",
   "metadata": {},
   "source": [
    "#ans\n",
    "Self refers o the instance of the class. it is automatically passed with a function call from an object."
   ]
  },
  {
   "cell_type": "code",
   "execution_count": 32,
   "id": "806f907c",
   "metadata": {},
   "outputs": [
    {
     "name": "stdout",
     "output_type": "stream",
     "text": [
      "google pay high salary\n"
     ]
    }
   ],
   "source": [
    "class Employee:\n",
    "    company = \"Google\"\n",
    "    def getinfo(self):\n",
    "        print(\"google pay high salary\")\n",
    "a=Employee()\n",
    "a.getinfo()"
   ]
  },
  {
   "cell_type": "markdown",
   "id": "e296ae33",
   "metadata": {},
   "source": [
    "Q6. How does a Python class handle operator overloading?\n"
   ]
  },
  {
   "cell_type": "raw",
   "id": "9f3760dc",
   "metadata": {},
   "source": [
    "#ans.\n",
    "Python Classes handle operator overloading by using special methods called Magic methods. These special methods usually begin and end with __ (double underscore)\n",
    "Example: Magic methods for basic arithmetic operators are:\n",
    "\n",
    "+ = __add__()\n",
    "\n",
    "- = __sub__()\n",
    "\n",
    "* = __mul__() \n",
    "\n",
    "/ = __div__()"
   ]
  },
  {
   "cell_type": "markdown",
   "id": "ab70df3d",
   "metadata": {},
   "source": [
    "\n",
    "Q7. When do you consider allowing operator overloading of your classes?\n"
   ]
  },
  {
   "cell_type": "raw",
   "id": "134b5e20",
   "metadata": {},
   "source": [
    "# ans\n",
    "We consider allowing operator overloading when we want to have different meaning for the same operator. \n",
    "For example operator + is used to add two integers as well as join two strings and merge two lists. \n",
    "It is achievable because ‘+’ operator is overloaded by int class and str class.\n"
   ]
  },
  {
   "cell_type": "markdown",
   "id": "37d0a97f",
   "metadata": {},
   "source": [
    "\n",
    "Q8. What is the most popular form of operator overloading?\n",
    "\n"
   ]
  },
  {
   "cell_type": "code",
   "execution_count": 8,
   "id": "ad16e3b1",
   "metadata": {},
   "outputs": [
    {
     "name": "stdout",
     "output_type": "stream",
     "text": [
      "Sum = 110\n",
      "String Concatenation = Mano Vishnu\n"
     ]
    }
   ],
   "source": [
    "# Ans: \n",
    "# The most popular form of operator overloading in python is by special methods called Magic methods. \n",
    "# Which usually beign and end with double underscore ____.\n",
    "\n",
    "class test4:\n",
    "    def __init__(self,a):\n",
    "        self.a = a\n",
    "    def __add__(self,b):\n",
    "        return self.a+b.a\n",
    "obj1 = test4(50)\n",
    "obj2 = test4(60)\n",
    "obj3 = test4('Mano')\n",
    "obj4 = test4(' Vishnu')\n",
    "print(f'Sum = {obj1+obj2}')\n",
    "print(f'String Concatenation = {obj3+obj4}')"
   ]
  },
  {
   "cell_type": "markdown",
   "id": "4df86b5a",
   "metadata": {},
   "source": [
    "Q9. What are the two most important concepts to grasp in order to comprehend Python OOP code?"
   ]
  },
  {
   "cell_type": "raw",
   "id": "52d7cb7f",
   "metadata": {},
   "source": [
    "# Ans: \n",
    "Classes and objects are the two concepts to comprehend python OOP code as more formally objects are entities that represent instances of general abstract concept called class\n",
    "\n",
    "Along with classes and objects the important concepts to grasp are:\n",
    "\n",
    "Inheritence\n",
    "Abstraction\n",
    "Polymorphism\n",
    "Encapsulation"
   ]
  }
 ],
 "metadata": {
  "kernelspec": {
   "display_name": "Python 3 (ipykernel)",
   "language": "python",
   "name": "python3"
  },
  "language_info": {
   "codemirror_mode": {
    "name": "ipython",
    "version": 3
   },
   "file_extension": ".py",
   "mimetype": "text/x-python",
   "name": "python",
   "nbconvert_exporter": "python",
   "pygments_lexer": "ipython3",
   "version": "3.9.12"
  }
 },
 "nbformat": 4,
 "nbformat_minor": 5
}
