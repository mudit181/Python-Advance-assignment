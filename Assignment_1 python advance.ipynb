{
 "cells": [
  {
   "cell_type": "markdown",
   "id": "0899b1c4",
   "metadata": {},
   "source": [
    "Q1. What is the purpose of Python&#39;s OOP?"
   ]
  },
  {
   "cell_type": "raw",
   "id": "e5028759",
   "metadata": {},
   "source": [
    "Object-oriented Programming (OOPs) is a programming paradigm that uses objects and classes in programming. It aims to implement real-world entities like inheritance, polymorphisms, encapsulation, etc. in the programming. The main concept of OOPs is to bind the data and the functions that work on that together as a single unit so that no other part of the code can access this data."
   ]
  },
  {
   "cell_type": "markdown",
   "id": "ae08cef7",
   "metadata": {},
   "source": [
    "Q2. Where does an inheritance search look for an attribute?"
   ]
  },
  {
   "cell_type": "raw",
   "id": "a8683ed3",
   "metadata": {},
   "source": [
    "#Ans\n",
    "Python searches for an attribute in an upward tree of attributes. It first searches for the attribute in its instance and then looks in the class it is generated from, to all super classes listed in its class header"
   ]
  },
  {
   "cell_type": "markdown",
   "id": "3d257d53",
   "metadata": {},
   "source": [
    "Q3. How do you distinguish between a class object and an instance object?\n"
   ]
  },
  {
   "cell_type": "raw",
   "id": "15b33e03",
   "metadata": {},
   "source": [
    "#Ans \n",
    "\n",
    "The differences between a class object and an instance object are:\n",
    "\n",
    "Class is a template for creating objects whereas object is an instance of class.\n",
    "Seperate memory is allocated for each object whenever an object is created, but for a class this does not happens.\n",
    "A Class is created once. Many objects are created using a class.\n",
    "As Classes have no allocated memory, they can't be manipulated, but objects can be manipulated."
   ]
  },
  {
   "cell_type": "markdown",
   "id": "e8ae0aa6",
   "metadata": {},
   "source": [
    "\n",
    "Q4. What makes the first argument in a class’s method function special?\n"
   ]
  },
  {
   "cell_type": "raw",
   "id": "0d171c66",
   "metadata": {},
   "source": [
    "#ans\n",
    "Python Classes usually have three types of methods which are:\n",
    "\n",
    "Instance Methods (object level methods)\n",
    "Class Methods (class level methods)\n",
    "Static Methods (general utility methods)\n",
    "self is the first argument for instance methods. which refers to the object itself\n",
    "cls is the first argument for class methods which refers to the class itself"
   ]
  },
  {
   "cell_type": "markdown",
   "id": "41741095",
   "metadata": {},
   "source": [
    "\n",
    "Q5. What is the purpose of the __init__ method?\n"
   ]
  },
  {
   "cell_type": "raw",
   "id": "037bf1de",
   "metadata": {},
   "source": [
    "#Ans\n",
    "__init__ is a reseved method in python classes. It serves the role of a constructor in object oriented terminology. This method is called when an object is created from a class and it allows the class to initialize the attributes of the class\n",
    "\n"
   ]
  },
  {
   "cell_type": "markdown",
   "id": "a43f8ae1",
   "metadata": {},
   "source": [
    "\n",
    "Q6. What is the process for creating a class instance?\n"
   ]
  },
  {
   "cell_type": "raw",
   "id": "4cbb6ad8",
   "metadata": {},
   "source": [
    "#ans\n",
    "To create a class instance, we need to call the class by its name and pass the arguments to the class, which its init method accepts.\n",
    "\n",
    "Example: my_name = my_class(\"Mudit\",\"bhatt\") Here my_name is an instance of class my_class with attributes \"Mudit\" and \"bhatt\"."
   ]
  },
  {
   "cell_type": "markdown",
   "id": "36972994",
   "metadata": {},
   "source": [
    "\n",
    "Q7. What is the process for creating a class?\n"
   ]
  },
  {
   "cell_type": "raw",
   "id": "953d5aa6",
   "metadata": {},
   "source": [
    "#ans\n",
    "class keyword is used to created a class in python. \n",
    "The syntax to create a class in python is class :\n"
   ]
  },
  {
   "cell_type": "code",
   "execution_count": 1,
   "id": "caff039b",
   "metadata": {},
   "outputs": [],
   "source": [
    "# examole\n",
    "class car:\n",
    "    pass"
   ]
  },
  {
   "cell_type": "markdown",
   "id": "2278cd95",
   "metadata": {},
   "source": [
    "\n",
    "Q8. How would you define the superclasses of a class?"
   ]
  },
  {
   "cell_type": "raw",
   "id": "006e2dec",
   "metadata": {},
   "source": [
    "# Ans\n",
    "Superclass/Parent class is given as a arugment to the child class\n",
    "eg: class Employee(Person): Here child class Employee inherits attributes and methofs from Superclass/Parent Person"
   ]
  }
 ],
 "metadata": {
  "kernelspec": {
   "display_name": "Python 3 (ipykernel)",
   "language": "python",
   "name": "python3"
  },
  "language_info": {
   "codemirror_mode": {
    "name": "ipython",
    "version": 3
   },
   "file_extension": ".py",
   "mimetype": "text/x-python",
   "name": "python",
   "nbconvert_exporter": "python",
   "pygments_lexer": "ipython3",
   "version": "3.9.12"
  }
 },
 "nbformat": 4,
 "nbformat_minor": 5
}
