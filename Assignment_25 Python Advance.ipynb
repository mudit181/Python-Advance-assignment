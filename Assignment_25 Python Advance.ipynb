{
 "cells": [
  {
   "cell_type": "markdown",
   "id": "73c55b7d",
   "metadata": {},
   "source": [
    "Q1. What is the distinction between a numpy array and a pandas data frame? Is there a way to\n",
    "convert between the two if there is?\n",
    "\n",
    "\n",
    "\n",
    "\n"
   ]
  },
  {
   "cell_type": "markdown",
   "id": "b690adb2",
   "metadata": {},
   "source": [
    "#ans:\n",
    "\n",
    "Numpy Ndarray provides a lot of convenient and optimized methods for performing several mathematical operations on vectors.\n",
    "\n",
    "Pandas Dataframe is an in-memory 2-dimensional tabular representation of data. In simpler words, it can be seen as a spreadsheet having rows and columns.\n",
    "\n",
    "Conversion : Dataframe=pandas.DataFrame(array)"
   ]
  },
  {
   "cell_type": "markdown",
   "id": "3268fa16",
   "metadata": {},
   "source": [
    "---------------------"
   ]
  },
  {
   "cell_type": "markdown",
   "id": "d3765757",
   "metadata": {},
   "source": [
    "Q2. What can go wrong when an user enters in a stock-ticker symbol, and how do you handle it?"
   ]
  },
  {
   "cell_type": "markdown",
   "id": "744fac26",
   "metadata": {},
   "source": [
    "#ans:\n",
    "Ticker symbols aren't static and can change in the event of a merger, name change, or delisting. we can implement a try except else and finally block to deal with it.\n"
   ]
  },
  {
   "cell_type": "markdown",
   "id": "03911775",
   "metadata": {},
   "source": [
    "----------------------------"
   ]
  },
  {
   "cell_type": "markdown",
   "id": "52b67bf8",
   "metadata": {},
   "source": [
    "\n",
    "Q3. Identify some of the plotting techniques that are used to produce a stock-market chart."
   ]
  },
  {
   "cell_type": "markdown",
   "id": "924080bd",
   "metadata": {},
   "source": [
    "#ans:\n",
    "\n",
    "line chart, bar chart, point and figure chart and candlestick chart are use for stock chart."
   ]
  },
  {
   "cell_type": "markdown",
   "id": "cc785225",
   "metadata": {},
   "source": [
    "-----------------------------"
   ]
  },
  {
   "cell_type": "markdown",
   "id": "699af06e",
   "metadata": {},
   "source": [
    "Q4. Why is it essential to print a legend on a stock market chart?"
   ]
  },
  {
   "cell_type": "markdown",
   "id": "388713bf",
   "metadata": {},
   "source": [
    "#ans:\n",
    "\n",
    "Legend will help comparison between different stocks, so will be essential on a stock market chart"
   ]
  },
  {
   "cell_type": "markdown",
   "id": "805cb182",
   "metadata": {},
   "source": [
    "-----------------------------"
   ]
  },
  {
   "cell_type": "markdown",
   "id": "ba215bb2",
   "metadata": {},
   "source": [
    "\n",
    "\n",
    "Q5. What is the best way to limit the length of a pandas data frame to less than a year?"
   ]
  },
  {
   "cell_type": "markdown",
   "id": "3825dcc8",
   "metadata": {},
   "source": [
    "#ans:\n",
    "\n",
    "We can use start and end parameters for that. In start, we write the date from where we are starting and at the end, we write the end date. SO within this span we can restrict the duration. Also, we can use the parameters like periods i.e for how much times we need the duration and we can also use the frequency parameter for that."
   ]
  },
  {
   "cell_type": "markdown",
   "id": "321cf961",
   "metadata": {},
   "source": [
    "-----------------------------"
   ]
  },
  {
   "cell_type": "markdown",
   "id": "a3737ee5",
   "metadata": {},
   "source": [
    "\n",
    "\n",
    "Q6. What is the definition of a 180-day moving average?\n"
   ]
  },
  {
   "cell_type": "markdown",
   "id": "63ed31c9",
   "metadata": {},
   "source": [
    "#ans:\n",
    "\n",
    "The 180-day moving average is represented as a line on charts and represents the average price over the past 180 days. The moving average can give traders a sense regarding whether the trend is up or down, while also identifying potential support or resistance areas. A moving average (MA) is a stock indicator that is commonly used in technical analysis. The reason for calculating the moving average of a stock is to help smooth out the price data over a specified period of time by creating a constantly updated average price. A simple moving average (SMA) is a calculation that takes the arithmetic mean of a given set of prices over the specific number of days in the past; for example, in this case over 180 days."
   ]
  },
  {
   "cell_type": "markdown",
   "id": "50543b2f",
   "metadata": {},
   "source": [
    "----------------------------"
   ]
  }
 ],
 "metadata": {
  "kernelspec": {
   "display_name": "Python 3 (ipykernel)",
   "language": "python",
   "name": "python3"
  },
  "language_info": {
   "codemirror_mode": {
    "name": "ipython",
    "version": 3
   },
   "file_extension": ".py",
   "mimetype": "text/x-python",
   "name": "python",
   "nbconvert_exporter": "python",
   "pygments_lexer": "ipython3",
   "version": "3.9.12"
  }
 },
 "nbformat": 4,
 "nbformat_minor": 5
}
