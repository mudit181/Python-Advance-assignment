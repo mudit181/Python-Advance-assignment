{
 "cells": [
  {
   "cell_type": "markdown",
   "id": "3a87e548",
   "metadata": {},
   "source": [
    "Q1. Define the relationship between a class and its instances. Is it a one-to-one or a one-to-many\n",
    "partnership, for example?\n",
    "\n",
    "\n",
    "\n",
    "\n",
    "\n",
    "\n",
    "\n",
    "\n",
    "\n",
    "\n",
    "\n",
    "\n"
   ]
  },
  {
   "cell_type": "markdown",
   "id": "c738f60e",
   "metadata": {},
   "source": [
    "#ans:\n",
    "Relationship between a class and its instances is a one to many partnership. Object is a physical entity or real world entity. A memory is alloted only after object instantiantion. \n",
    "Class is a logical entity which does not exist in real world. Or we can say that class is a blueprint to create objects of similiar types. A class does not take space in memory."
   ]
  },
  {
   "cell_type": "code",
   "execution_count": 39,
   "id": "b6815443",
   "metadata": {},
   "outputs": [
    {
     "data": {
      "text/plain": [
       "'google'"
      ]
     },
     "execution_count": 39,
     "metadata": {},
     "output_type": "execute_result"
    }
   ],
   "source": [
    "#example:\n",
    "class Employee:\n",
    "    company = \"google\"   \n",
    "    \n",
    "a=Employee()      # object instantiation which locate memory\n",
    "a.company\n",
    "    "
   ]
  },
  {
   "cell_type": "markdown",
   "id": "a8c98c9d",
   "metadata": {},
   "source": [
    "-------------------------"
   ]
  },
  {
   "cell_type": "markdown",
   "id": "c97e2f32",
   "metadata": {},
   "source": [
    "\n",
    "Q2. What kind of data is held only in an instance?"
   ]
  },
  {
   "cell_type": "markdown",
   "id": "217a46fd",
   "metadata": {},
   "source": [
    "#Ans: \n",
    "\n",
    "Instance objects contains the Instance variables which are specific to that specific Instance object."
   ]
  },
  {
   "cell_type": "markdown",
   "id": "5b481fbb",
   "metadata": {},
   "source": [
    "-----------------------------------------"
   ]
  },
  {
   "cell_type": "markdown",
   "id": "0928bdf3",
   "metadata": {},
   "source": [
    "Q3. What kind of knowledge is stored in a class?\n"
   ]
  },
  {
   "cell_type": "markdown",
   "id": "00b80210",
   "metadata": {},
   "source": [
    "#ans:\n",
    "\n",
    "Class creates a user-defined data structure, which holds its own data members and member functions, which can be accessed and used by creating an instance of that class. A class is like a blueprint for an object. Class is a logical entity which does not exist in real world Or we can say that class is a blueprint to create objects of similiar types. A class does not take space in memory. "
   ]
  },
  {
   "cell_type": "markdown",
   "id": "dd2404a7",
   "metadata": {},
   "source": [
    "---------------------------------------------"
   ]
  },
  {
   "cell_type": "markdown",
   "id": "135b58bc",
   "metadata": {},
   "source": [
    "Q4. What exactly is a method, and how is it different from a regular function?"
   ]
  },
  {
   "cell_type": "markdown",
   "id": "6e1072e4",
   "metadata": {},
   "source": [
    "#Ans:\n",
    "\n",
    "The methods with a class can be used to access the insatnce variables of its instance. So,the object's state can be modified by its method. Regular function can't access the attributes of an instance of a class or can't modify the state of the object."
   ]
  },
  {
   "cell_type": "markdown",
   "id": "123a3483",
   "metadata": {},
   "source": [
    "---------------------------"
   ]
  },
  {
   "cell_type": "markdown",
   "id": "67e0383f",
   "metadata": {},
   "source": [
    "\n",
    "Q5. Is inheritance supported in Python, and if so, what is the syntax?"
   ]
  },
  {
   "cell_type": "markdown",
   "id": "541c7f0a",
   "metadata": {},
   "source": [
    "#ans:\n",
    "\n",
    "Yes,Python supports inheritance. The Types of Inheritence Supported by Python are:\n",
    "\n",
    "1.Simple Inheritence\n",
    "\n",
    "2.Multiple Inheritence\n",
    "\n",
    "3.Multilevel lInheritence\n",
    "\n",
    "4.Hybrid Inheritence\n",
    "\n",
    "5.Hierracial Inheritence"
   ]
  },
  {
   "cell_type": "code",
   "execution_count": 40,
   "id": "ec501d6a",
   "metadata": {},
   "outputs": [],
   "source": [
    "# inheritance syntax\n",
    "class test:\n",
    "    def __init__(self, name,age):\n",
    "        self.name =name\n",
    "        self.age = age\n",
    "class test1(test):\n",
    "    def detail(self):\n",
    "        print(f\" name {self.name} and age  {self.age} is from class test\")"
   ]
  },
  {
   "cell_type": "code",
   "execution_count": 41,
   "id": "a7419157",
   "metadata": {},
   "outputs": [
    {
     "name": "stdout",
     "output_type": "stream",
     "text": [
      " name mudit and age  30 is from class test\n"
     ]
    }
   ],
   "source": [
    "x= test1('mudit',\"30\")\n",
    "x.detail()"
   ]
  },
  {
   "cell_type": "markdown",
   "id": "078fb8ba",
   "metadata": {},
   "source": [
    "-------------------------------"
   ]
  },
  {
   "cell_type": "markdown",
   "id": "32bd29b9",
   "metadata": {},
   "source": [
    "\n",
    "Q6. How much encapsulation (making instance or class variables private) does Python support?"
   ]
  },
  {
   "cell_type": "markdown",
   "id": "cdf769ad",
   "metadata": {},
   "source": [
    "#ans:\n",
    "\n",
    "Encapsulation describes the idea of wrapping data and the methods that work on data within one unit. This puts restrictions on accessing variables and methods directly and can prevent the accidental modification of data. To prevent accidental change, an objects variable can only be changed by an objects method."
   ]
  },
  {
   "cell_type": "markdown",
   "id": "fcc72aab",
   "metadata": {},
   "source": [
    "-----------------------------"
   ]
  },
  {
   "cell_type": "markdown",
   "id": "c3700e68",
   "metadata": {},
   "source": [
    "\n",
    "Q7. How do you distinguish between a class variable and an instance variable?"
   ]
  },
  {
   "cell_type": "markdown",
   "id": "9991ee5d",
   "metadata": {},
   "source": [
    "#Ans:\n",
    "\n",
    "The Class Attribute is available to all the instance objects of that class. whereas Instance Attributes are accessible only to the object or Instance of that class.\n",
    "\n",
    "A single copy of Class attributes is maintained by pvm at the class level. Whereas difference copies of instance attributes are maintained by pvm at objects/instance level."
   ]
  },
  {
   "cell_type": "code",
   "execution_count": 42,
   "id": "34bdbe0c",
   "metadata": {},
   "outputs": [
    {
     "name": "stdout",
     "output_type": "stream",
     "text": [
      "Max\n",
      "google\n"
     ]
    }
   ],
   "source": [
    "#example:\n",
    "class Employee:\n",
    "    company = \"google\"\n",
    "    def emp(self):\n",
    "        self.name=\"Max\"\n",
    "    \n",
    "    \n",
    "    \n",
    "a=Employee()\n",
    "a.emp()\n",
    "print(a.name)\n",
    "print(a.company)\n",
    "\n"
   ]
  },
  {
   "cell_type": "code",
   "execution_count": 43,
   "id": "121fb8bc",
   "metadata": {},
   "outputs": [
    {
     "ename": "TypeError",
     "evalue": "Employee() takes no arguments",
     "output_type": "error",
     "traceback": [
      "\u001b[1;31m---------------------------------------------------------------------------\u001b[0m",
      "\u001b[1;31mTypeError\u001b[0m                                 Traceback (most recent call last)",
      "Input \u001b[1;32mIn [43]\u001b[0m, in \u001b[0;36m<cell line: 1>\u001b[1;34m()\u001b[0m\n\u001b[1;32m----> 1\u001b[0m b\u001b[38;5;241m=\u001b[39m \u001b[43mEmployee\u001b[49m\u001b[43m(\u001b[49m\u001b[38;5;124;43m\"\u001b[39;49m\u001b[38;5;124;43mMudit\u001b[39;49m\u001b[38;5;124;43m\"\u001b[39;49m\u001b[43m)\u001b[49m\n\u001b[0;32m      2\u001b[0m \u001b[38;5;28mprint\u001b[39m(b\u001b[38;5;241m.\u001b[39mname)\n",
      "\u001b[1;31mTypeError\u001b[0m: Employee() takes no arguments"
     ]
    }
   ],
   "source": [
    "b= Employee(\"Mudit\")\n",
    "print(b.name)   # instance variable is not call by method Emp()\n"
   ]
  },
  {
   "cell_type": "code",
   "execution_count": 44,
   "id": "ba950cdb",
   "metadata": {},
   "outputs": [
    {
     "data": {
      "text/plain": [
       "'google'"
      ]
     },
     "execution_count": 44,
     "metadata": {},
     "output_type": "execute_result"
    }
   ],
   "source": [
    "b.company   # class variable always execute despite of methord call"
   ]
  },
  {
   "cell_type": "markdown",
   "id": "02521b27",
   "metadata": {},
   "source": [
    "-----------------"
   ]
  },
  {
   "cell_type": "markdown",
   "id": "ab89d745",
   "metadata": {},
   "source": [
    "Q8. When, if ever, can self be included in a class&#39;s method definitions?\n"
   ]
  },
  {
   "cell_type": "markdown",
   "id": "85bd3801",
   "metadata": {},
   "source": [
    "#Ans:\n",
    "Yes, self can included in class method definations to access the instance variables inside class methods."
   ]
  },
  {
   "cell_type": "markdown",
   "id": "b5664cbd",
   "metadata": {},
   "source": [
    "--------------------------"
   ]
  },
  {
   "cell_type": "markdown",
   "id": "4f0fe89d",
   "metadata": {},
   "source": [
    "Q9. What is the difference between the _ _add_ _ and the _ _radd_ _ methods?"
   ]
  },
  {
   "cell_type": "markdown",
   "id": "96cc8de2",
   "metadata": {},
   "source": [
    "#Ans:\n",
    "\n",
    "Entering __radd__ Python will first try __add__(), and if that returns Not Implemented Python will check if the right-hand operand implements __radd__, and if it does, it will call __radd__() rather than raising a TypeError\n",
    "\n",
    "The expression a+b is internally translated to the method call a.add(b). But if a and b are of different types, it is possible that a's implementation of addition cannot deal with objects of b's type (or maybe a does not have a add method, at all). So, if a.add(b) fails, Python tries b.radd(a) instead, to see if b's implementation can deal with objects of a's type."
   ]
  },
  {
   "cell_type": "markdown",
   "id": "f0283faa",
   "metadata": {},
   "source": [
    "--------------------"
   ]
  },
  {
   "cell_type": "markdown",
   "id": "31c91891",
   "metadata": {},
   "source": [
    "Q10. When is it necessary to use a reflection method? When do you not need it, even though you\n",
    "support the operation in question?\n"
   ]
  },
  {
   "cell_type": "markdown",
   "id": "1117e592",
   "metadata": {},
   "source": [
    "#ans:\n",
    "\n",
    "Reflection refers to the ability for code to be able to examine attributes about objects that might be passed as parameters to a function. For example, if we write type(obj) then Python will return an object which represents the type of obj. Using reflection, we can write one recursive reverse function that will work for strings, lists, and any other sequence that supports slicing and concatenation. If an obj is a reference to a string, then Python will return the str type object. Further, if we write str() we get a string which is the empty string. In other words, writing str() is the same thing as writing “”. Likewise, writing list() is the same thing as writing []."
   ]
  },
  {
   "cell_type": "code",
   "execution_count": 45,
   "id": "ec180572",
   "metadata": {},
   "outputs": [
    {
     "name": "stdout",
     "output_type": "stream",
     "text": [
      "x is not callable\n",
      "y is callable\n"
     ]
    }
   ],
   "source": [
    "x = 5\n",
    "def testFunction():\n",
    "    print(\"Test\")\n",
    "\n",
    "y = testFunction\n",
    "\n",
    "if (callable(x)):\n",
    "    print(\"x is callable\")\n",
    "else:\n",
    "    print(\"x is not callable\")\n",
    "\n",
    "if (callable(y)):\n",
    "    print(\"y is callable\")\n",
    "else:\n",
    "    print(\"y is not callable\")"
   ]
  },
  {
   "cell_type": "markdown",
   "id": "931a8af3",
   "metadata": {},
   "source": [
    "--------------------------"
   ]
  },
  {
   "cell_type": "markdown",
   "id": "9d87d1e7",
   "metadata": {},
   "source": [
    "\n",
    "Q11. What is the _ _iadd_ _ method called?"
   ]
  },
  {
   "cell_type": "markdown",
   "id": "1894f462",
   "metadata": {},
   "source": [
    "#Ans:\n",
    "    \n",
    "__iadd__ method is called when we use implementation like a+=b which is a.__iadd__(b)"
   ]
  },
  {
   "cell_type": "markdown",
   "id": "55a13703",
   "metadata": {},
   "source": [
    "-----------------"
   ]
  },
  {
   "cell_type": "markdown",
   "id": "4aa819e2",
   "metadata": {},
   "source": [
    "\n",
    "Q12. Is the _ _init_ _ method inherited by subclasses? What do you do if you need to customize its\n",
    "behavior within a subclass?"
   ]
  },
  {
   "cell_type": "markdown",
   "id": "77741862",
   "metadata": {},
   "source": [
    "#Ans: \n",
    "\n",
    "Yes, __init__ method will be inherited by subclasses. if we want to customize its behaviour within a subclass we can use super() method."
   ]
  },
  {
   "cell_type": "code",
   "execution_count": null,
   "id": "f4e80fd8",
   "metadata": {},
   "outputs": [],
   "source": []
  }
 ],
 "metadata": {
  "kernelspec": {
   "display_name": "Python 3 (ipykernel)",
   "language": "python",
   "name": "python3"
  },
  "language_info": {
   "codemirror_mode": {
    "name": "ipython",
    "version": 3
   },
   "file_extension": ".py",
   "mimetype": "text/x-python",
   "name": "python",
   "nbconvert_exporter": "python",
   "pygments_lexer": "ipython3",
   "version": "3.9.12"
  }
 },
 "nbformat": 4,
 "nbformat_minor": 5
}
