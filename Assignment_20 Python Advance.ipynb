{
 "cells": [
  {
   "cell_type": "markdown",
   "id": "0945260c",
   "metadata": {},
   "source": [
    "1. Compare and contrast the float and Decimal classes&#39; benefits and drawbacks.\n",
    "\n",
    "\n",
    "\n",
    "\n",
    "\n",
    "\n",
    "\n",
    "\n",
    "\n",
    "\n",
    "\n",
    "\n",
    "\n"
   ]
  },
  {
   "cell_type": "markdown",
   "id": "f782a66a",
   "metadata": {},
   "source": [
    "#Ans:\n",
    "\n",
    "Both the float and decimal types store numerical values in Python.\n",
    "\n",
    "Use floats when convenience and speed matter. A float gives you an approximation of the number you declare.\n",
    "\n",
    "Use decimals when precision matters. Decimals can suffer from their own precision issues, but generally, decimals are more precise than floats. The performance difference between float and decimal, with Python 3, is not outlandish, and in my experience, the precision benefits of a decimal outweigh the performance benefits of a float."
   ]
  },
  {
   "cell_type": "markdown",
   "id": "bf994679",
   "metadata": {},
   "source": [
    "--------------------"
   ]
  },
  {
   "cell_type": "markdown",
   "id": "dbfffd8e",
   "metadata": {},
   "source": [
    "2. Decimal(&#39;1.200&#39;) and Decimal(&#39;1.2&#39;) are two objects to consider. In what sense are these the same\n",
    "object? Are these just two ways of representing the exact same value, or do they correspond to\n",
    "different internal states?\n"
   ]
  },
  {
   "cell_type": "markdown",
   "id": "f35791aa",
   "metadata": {},
   "source": [
    "#Ans: \n",
    "\n",
    "Both values are same but internal representation at storage Is different. Precsion differs, Decimal('1.200') gives internally 1.200 and Decimal('1.2') gives 1.2."
   ]
  },
  {
   "cell_type": "markdown",
   "id": "4131140b",
   "metadata": {},
   "source": [
    "---------------"
   ]
  },
  {
   "cell_type": "markdown",
   "id": "5e3a8dba",
   "metadata": {},
   "source": [
    "3. What happens if the equality of Decimal(&#39;1.200&#39;) and Decimal(&#39;1.2&#39;) is checked?"
   ]
  },
  {
   "cell_type": "markdown",
   "id": "c541c175",
   "metadata": {},
   "source": [
    "#Ans:\n",
    "\n",
    "Both values are checked to be equal , they only differ in precision."
   ]
  },
  {
   "cell_type": "markdown",
   "id": "6a0646a5",
   "metadata": {},
   "source": [
    "----------------------"
   ]
  },
  {
   "cell_type": "markdown",
   "id": "5f7cef8a",
   "metadata": {},
   "source": [
    "4. Why is it preferable to start a Decimal object with a string rather than a floating-point value?\n"
   ]
  },
  {
   "cell_type": "markdown",
   "id": "8a8bbcaf",
   "metadata": {},
   "source": [
    "#Ans:\n",
    "\n",
    "Floating-point value is converted to Decimal format. Decimal can store float value with absolute precision. But when float value is given as Decimal object,it first has to be converted from floating point value which might already have rounding error.\n",
    "\n",
    "Hence it is preferable to start a Decimal object with a string."
   ]
  },
  {
   "cell_type": "markdown",
   "id": "c19ffae6",
   "metadata": {},
   "source": [
    "---------------"
   ]
  },
  {
   "cell_type": "markdown",
   "id": "482d6148",
   "metadata": {},
   "source": [
    "5. In an arithmetic phrase, how simple is it to combine Decimal objects with integers?"
   ]
  },
  {
   "cell_type": "markdown",
   "id": "cd8f1534",
   "metadata": {},
   "source": [
    "#Ans:\n",
    "We can do it with use of Decimal()."
   ]
  },
  {
   "cell_type": "markdown",
   "id": "ef0f0eae",
   "metadata": {},
   "source": [
    "6. Can Decimal objects and floating-point values be combined easily?"
   ]
  },
  {
   "cell_type": "markdown",
   "id": "59405e59",
   "metadata": {},
   "source": [
    "#Ans: \n",
    "\n",
    "Arithmetic operfations like Adding,subtracting or multiplying a Decimal object by a floating-point value is generates an error.\n",
    "\n",
    "To do these operations, the floating point has to be converted to a Decimal."
   ]
  },
  {
   "cell_type": "markdown",
   "id": "9d3a8847",
   "metadata": {},
   "source": [
    "-------------------"
   ]
  },
  {
   "cell_type": "markdown",
   "id": "f930bd88",
   "metadata": {},
   "source": [
    "\n",
    "7. Using the Fraction class but not the Decimal class, give an example of a quantity that can be\n",
    "expressed with absolute precision."
   ]
  },
  {
   "cell_type": "markdown",
   "id": "e9669b90",
   "metadata": {},
   "source": [
    "#Ans: \n",
    "\n",
    "Value of 0.5 will be represented as ½."
   ]
  },
  {
   "cell_type": "markdown",
   "id": "ff94729b",
   "metadata": {},
   "source": [
    "8. Describe a quantity that can be accurately expressed by the Decimal or Fraction classes but not by\n",
    "a floating-point value.\n"
   ]
  },
  {
   "cell_type": "markdown",
   "id": "0be161b0",
   "metadata": {},
   "source": [
    "#ans:\n",
    "\n",
    "floating point value is not 100% accurate"
   ]
  },
  {
   "cell_type": "code",
   "execution_count": 1,
   "id": "8dac6c71",
   "metadata": {},
   "outputs": [
    {
     "data": {
      "text/plain": [
       "False"
      ]
     },
     "execution_count": 1,
     "metadata": {},
     "output_type": "execute_result"
    }
   ],
   "source": [
    "0.1+0.2==0.3"
   ]
  },
  {
   "cell_type": "code",
   "execution_count": 3,
   "id": "c8a76b34",
   "metadata": {},
   "outputs": [
    {
     "data": {
      "text/plain": [
       "0.30000000000000004"
      ]
     },
     "execution_count": 3,
     "metadata": {},
     "output_type": "execute_result"
    }
   ],
   "source": [
    "0.1+0.2"
   ]
  },
  {
   "cell_type": "code",
   "execution_count": 5,
   "id": "8f9947bd",
   "metadata": {},
   "outputs": [
    {
     "data": {
      "text/plain": [
       "Decimal('0.3')"
      ]
     },
     "execution_count": 5,
     "metadata": {},
     "output_type": "execute_result"
    }
   ],
   "source": [
    "from decimal import Decimal\n",
    "Decimal(\"0.1\")+ Decimal(\"0.2\")"
   ]
  },
  {
   "cell_type": "code",
   "execution_count": 6,
   "id": "fef35909",
   "metadata": {},
   "outputs": [
    {
     "data": {
      "text/plain": [
       "True"
      ]
     },
     "execution_count": 6,
     "metadata": {},
     "output_type": "execute_result"
    }
   ],
   "source": [
    "Decimal(\"0.1\")+ Decimal(\"0.2\") == Decimal('0.3')"
   ]
  },
  {
   "cell_type": "markdown",
   "id": "ed1c6848",
   "metadata": {},
   "source": [
    "Q9.Consider the following two fraction objects: Fraction(1, 2) and Fraction(1, 2). (5, 10). Is the internal\n",
    "state of these two objects the same? Why do you think that is?"
   ]
  },
  {
   "cell_type": "markdown",
   "id": "e5b4549a",
   "metadata": {},
   "source": [
    "#Ans: \n",
    "\n",
    "Both will be reduced to 1/2"
   ]
  },
  {
   "cell_type": "markdown",
   "id": "3eefdf89",
   "metadata": {},
   "source": [
    "Q10. How do the Fraction class and the integer type (int) relate to each other? Containment or\n",
    "inheritance?"
   ]
  },
  {
   "cell_type": "markdown",
   "id": "b1ccffc6",
   "metadata": {},
   "source": [
    "#Ans:\n",
    "\n",
    "Fraction class and integer type(int) are related in form of a container.It contains two ints, one the numerator and the other the denominator"
   ]
  },
  {
   "cell_type": "code",
   "execution_count": null,
   "id": "fb06d861",
   "metadata": {},
   "outputs": [],
   "source": []
  }
 ],
 "metadata": {
  "kernelspec": {
   "display_name": "Python 3 (ipykernel)",
   "language": "python",
   "name": "python3"
  },
  "language_info": {
   "codemirror_mode": {
    "name": "ipython",
    "version": 3
   },
   "file_extension": ".py",
   "mimetype": "text/x-python",
   "name": "python",
   "nbconvert_exporter": "python",
   "pygments_lexer": "ipython3",
   "version": "3.9.12"
  }
 },
 "nbformat": 4,
 "nbformat_minor": 5
}
