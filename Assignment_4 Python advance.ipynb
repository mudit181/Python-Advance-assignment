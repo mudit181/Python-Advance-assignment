{
 "cells": [
  {
   "cell_type": "markdown",
   "id": "cdb7e347",
   "metadata": {},
   "source": [
    "Q1. Which two operator overloading methods can you use in your classes to support iteration?\n",
    "\n"
   ]
  },
  {
   "cell_type": "raw",
   "id": "2d7b4ce6",
   "metadata": {},
   "source": [
    "#ans:\n",
    "\n",
    "__iter__ and __next__ are the operator overloading methods in python that support iteration and are collectively called iterator protocol.\n",
    "\n",
    "__iter__ returns the iterator object and is called at the start of loop in our respective class.\n",
    "\n",
    "__next__ is called at each loop increment, it returns the incremented value. Also Stopiteration is raised when there is no value to return."
   ]
  },
  {
   "cell_type": "code",
   "execution_count": 5,
   "id": "d850e7d6",
   "metadata": {},
   "outputs": [
    {
     "name": "stdout",
     "output_type": "stream",
     "text": [
      "2\n",
      "3\n",
      "4\n",
      "5\n",
      "6\n",
      "7\n",
      "8\n",
      "9\n",
      "10\n"
     ]
    }
   ],
   "source": [
    "class Counter:\n",
    "    def __init__(self,low,high):\n",
    "        self.low = low\n",
    "        self.high = high\n",
    "    def __iter__(self):\n",
    "        return self\n",
    "    def __next__(self):\n",
    "        if self.low > self.high:\n",
    "            raise StopIteration\n",
    "        else:\n",
    "            self.low += 1\n",
    "            return self.low - 1\n",
    "for i in Counter(2,10):\n",
    "    print(i)"
   ]
  },
  {
   "cell_type": "markdown",
   "id": "11620383",
   "metadata": {},
   "source": [
    "Q2. In what contexts do the two operator overloading methods manage printing?\n",
    "\n"
   ]
  },
  {
   "cell_type": "raw",
   "id": "8d5557c8",
   "metadata": {},
   "source": [
    "#Ans:\n",
    "str and repr are two operator overloading methods that manage printing. where repr is unambiguous and str is readable."
   ]
  },
  {
   "cell_type": "code",
   "execution_count": 30,
   "id": "daacf90c",
   "metadata": {},
   "outputs": [
    {
     "name": "stdout",
     "output_type": "stream",
     "text": [
      "<__main__.car object at 0x0000018730A7A9D0>\n",
      "car color: white and car cost: 100000\n"
     ]
    }
   ],
   "source": [
    "class car:\n",
    "    def __init__(self,color,cost):\n",
    "        self.color = color\n",
    "        self.cost = cost\n",
    "        \n",
    "a = car(\"Black\",200000)\n",
    "print(str(a))\n",
    "\n",
    "class car:\n",
    "    def __init__(self,color,cost):\n",
    "        self.color = color\n",
    "        self.cost = cost\n",
    "    def __str__(self):\n",
    "        return f'car color: {self.color} and car cost: {self.cost}'\n",
    "    \n",
    "a = car(\"white\",100000)\n",
    "print(str(a))"
   ]
  },
  {
   "cell_type": "code",
   "execution_count": 31,
   "id": "d220cdcf",
   "metadata": {},
   "outputs": [
    {
     "name": "stdout",
     "output_type": "stream",
     "text": [
      "2023-01-05 19:57:43.742495\n",
      "Unable to convert back to original object\n",
      "datetime.datetime(2023, 1, 5, 19, 57, 43, 742495)\n",
      "2023-01-05 19:57:43.742495\n"
     ]
    }
   ],
   "source": [
    "import datetime\n",
    "time = datetime.datetime.now()\n",
    "b = str(time) # converting datetime object to presentable str\n",
    "print(b)\n",
    "try: d = eval(b) # converting str back to datetime object\n",
    "except: print(\"Unable to convert back to original object\")\n",
    "    \n",
    "c = repr(time) # converting datetime object to str\n",
    "print(c)\n",
    "e = eval(c) # converting str back to datetime object\n",
    "print(e)"
   ]
  },
  {
   "cell_type": "markdown",
   "id": "65164d23",
   "metadata": {},
   "source": [
    "-------------------------------"
   ]
  },
  {
   "cell_type": "markdown",
   "id": "97e2cad6",
   "metadata": {},
   "source": [
    "Q3. In a class, how do you intercept slice operations?\n",
    "\n"
   ]
  },
  {
   "cell_type": "raw",
   "id": "5d968543",
   "metadata": {},
   "source": [
    "#ans:\n",
    "In a class use of slice(), __ getitem __ method is used for intercept slice operation. This slice method is provided with start integer number, stop integer number and step integer number.\n",
    "\n",
    "Example: __ getitem __ (slice(start,stop,step))"
   ]
  },
  {
   "cell_type": "markdown",
   "id": "09e9e400",
   "metadata": {},
   "source": [
    "----------------------------------"
   ]
  },
  {
   "cell_type": "markdown",
   "id": "40f1d59c",
   "metadata": {},
   "source": [
    "Q4. In a class, how do you capture in-place addition?\n",
    "\n"
   ]
  },
  {
   "cell_type": "code",
   "execution_count": 36,
   "id": "465e1f60",
   "metadata": {},
   "outputs": [
    {
     "name": "stdout",
     "output_type": "stream",
     "text": [
      "10500\n"
     ]
    }
   ],
   "source": [
    "# ans:\n",
    "# In a class __ iadd __ method is used for this in-place operation\n",
    "\n",
    "class emp:\n",
    "    def __init__(self,salary):\n",
    "        self.salary = salary\n",
    "    def __iadd__(self,bonus):\n",
    "        self.salary += bonus.salary\n",
    "        return self.salary\n",
    "        \n",
    "a1 = emp(10000)\n",
    "a2 = emp(500)\n",
    "a1+=a2\n",
    "print(a1)"
   ]
  },
  {
   "cell_type": "markdown",
   "id": "681c25b2",
   "metadata": {},
   "source": [
    "-----------------------------------"
   ]
  },
  {
   "cell_type": "markdown",
   "id": "bd1853f1",
   "metadata": {},
   "source": [
    "Q5. When is it appropriate to use operator overloading?"
   ]
  },
  {
   "cell_type": "markdown",
   "id": "33a5f9ca",
   "metadata": {},
   "source": [
    "# ans:\n",
    "\n",
    "Operator overloading is used when we want to use an operator other than its normal operation to have different meaning according to the context required in user defined function."
   ]
  },
  {
   "cell_type": "code",
   "execution_count": 37,
   "id": "63372812",
   "metadata": {},
   "outputs": [
    {
     "name": "stdout",
     "output_type": "stream",
     "text": [
      "1500\n"
     ]
    }
   ],
   "source": [
    "\n",
    "class emp:\n",
    "    def __init__(self,salary):\n",
    "        self.salary = salary\n",
    "    def __iadd__(self,bonus):\n",
    "        self.salary += bonus.salary\n",
    "        return self.salary\n",
    "        \n",
    "a1 = emp(1000)\n",
    "a2 = emp(500)\n",
    "a1+=a2\n",
    "print(a1)"
   ]
  }
 ],
 "metadata": {
  "kernelspec": {
   "display_name": "Python 3 (ipykernel)",
   "language": "python",
   "name": "python3"
  },
  "language_info": {
   "codemirror_mode": {
    "name": "ipython",
    "version": 3
   },
   "file_extension": ".py",
   "mimetype": "text/x-python",
   "name": "python",
   "nbconvert_exporter": "python",
   "pygments_lexer": "ipython3",
   "version": "3.9.12"
  }
 },
 "nbformat": 4,
 "nbformat_minor": 5
}
