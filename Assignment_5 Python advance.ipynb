{
 "cells": [
  {
   "cell_type": "markdown",
   "id": "348b08b7",
   "metadata": {},
   "source": [
    "Q1. What is the meaning of multiple inheritance?\n",
    "\n"
   ]
  },
  {
   "cell_type": "code",
   "execution_count": 2,
   "id": "c0917bee",
   "metadata": {},
   "outputs": [],
   "source": [
    "# ans\n",
    "# a child class inherits its properties from multiple Parent classes this scenario is called Multiple Inheritence.\n",
    "\n",
    "class father:\n",
    "    def func1(self):\n",
    "        print(\"he is father\")\n",
    "        \n",
    "class mother:\n",
    "    def func2(self):\n",
    "        print(\"she is mother\")\n",
    "\n",
    "class child(father,mother):\n",
    "    def func3(self):\n",
    "        print(\"this is son/daughter\")\n",
    "    \n",
    "    "
   ]
  },
  {
   "cell_type": "code",
   "execution_count": 6,
   "id": "803149ee",
   "metadata": {},
   "outputs": [
    {
     "name": "stdout",
     "output_type": "stream",
     "text": [
      "she is mother\n",
      "he is father\n"
     ]
    }
   ],
   "source": [
    "a= child()\n",
    "a.func2()   #inherited from class mother\n",
    "a.func1()   #inherited from class father"
   ]
  },
  {
   "cell_type": "markdown",
   "id": "e454d096",
   "metadata": {},
   "source": [
    "--------------------------"
   ]
  },
  {
   "cell_type": "markdown",
   "id": "3bd39940",
   "metadata": {},
   "source": [
    "Q2. What is the concept of delegation?\n",
    "\n"
   ]
  },
  {
   "cell_type": "markdown",
   "id": "1671c888",
   "metadata": {},
   "source": [
    "#ans\n",
    "\n",
    "Delegation provides a proxy object for any class that we want on top of the main class. It is like a wrapper to our class so that we can access limited resources of the main class.\n",
    "It wraps the object of main class into a smaller object with limited access\n",
    "In simple terms, Delegation means that we can include an instance of another class as an instance variable, and forward messages to the instance"
   ]
  },
  {
   "cell_type": "code",
   "execution_count": 7,
   "id": "b862ae4d",
   "metadata": {},
   "outputs": [
    {
     "name": "stdout",
     "output_type": "stream",
     "text": [
      "Hey i am back\n",
      "Hey i am back\n",
      "Hey i am back\n",
      "Iam the main class\n"
     ]
    }
   ],
   "source": [
    "class Myclass:\n",
    "    def sayHi(self):\n",
    "        print('Hey i am back')\n",
    "    def whoAmI(self):\n",
    "        print('Iam the main class')\n",
    "class NewClass:\n",
    "    def __init__(self,obj):\n",
    "        self.main = obj\n",
    "    def welcome(self):\n",
    "        self.main.sayHi()\n",
    "\n",
    "m = Myclass()        \n",
    "n = NewClass(m)\n",
    "m.sayHi()\n",
    "n.main.sayHi()\n",
    "n.welcome()\n",
    "n.main.whoAmI()"
   ]
  },
  {
   "cell_type": "markdown",
   "id": "b501ebf6",
   "metadata": {},
   "source": [
    "------------------------------------"
   ]
  },
  {
   "cell_type": "markdown",
   "id": "858546c0",
   "metadata": {},
   "source": [
    "Q3. What is the concept of composition?\n",
    "\n"
   ]
  },
  {
   "cell_type": "markdown",
   "id": "befeb526",
   "metadata": {},
   "source": [
    "#ans:\n",
    "\n",
    "In the concept of Composition, a class refers to one or more other classes by using instances of those classes as an instance variable. Irrespective of inheritence, In this approach all the parent class members are not inherited into child class, but only required methods from a class are used by using class instances."
   ]
  },
  {
   "cell_type": "code",
   "execution_count": 21,
   "id": "09d3605b",
   "metadata": {},
   "outputs": [],
   "source": [
    "class emp:\n",
    "    def __init__(self,name):\n",
    "        self.name = name\n",
    "    def detail(self):\n",
    "        print(f\"name of a employee is {self.name}\")\n",
    "    \n",
    "class emp2:\n",
    "    def __init__(self,name):\n",
    "        self.name= name\n",
    "        self.obj = emp(self.name)\n",
    "    def detail_2(self):\n",
    "        self.obj.detail()\n",
    "        "
   ]
  },
  {
   "cell_type": "code",
   "execution_count": 25,
   "id": "9daa8859",
   "metadata": {},
   "outputs": [
    {
     "name": "stdout",
     "output_type": "stream",
     "text": [
      "name of a employee is Mudit\n"
     ]
    }
   ],
   "source": [
    "b= emp2(\"Mudit\")\n",
    "b.detail_2()"
   ]
  },
  {
   "cell_type": "markdown",
   "id": "31bbcd00",
   "metadata": {},
   "source": [
    "--------------------------"
   ]
  },
  {
   "cell_type": "markdown",
   "id": "7c78bd85",
   "metadata": {},
   "source": [
    "Q4. What are bound methods and how do we use them?\n",
    "\n"
   ]
  },
  {
   "cell_type": "markdown",
   "id": "d940f642",
   "metadata": {},
   "source": [
    "#ans:\n",
    "\n",
    "If a function is an attribute of class and it is accessed via the instances, they are called bound methods. A bound method is one that has self as its first argument. Since these are dependent on the instance of classes, these are also known as instance methods."
   ]
  },
  {
   "cell_type": "code",
   "execution_count": 27,
   "id": "ed85e020",
   "metadata": {},
   "outputs": [
    {
     "name": "stdout",
     "output_type": "stream",
     "text": [
      "Called method_one\n",
      "Called method_two\n",
      "Called method_two\n",
      "Called method_three\n"
     ]
    }
   ],
   "source": [
    "class test:\n",
    "    def method_one(self): # bound method\n",
    "        print(\"Called method_one\")\n",
    "    @classmethod\n",
    "    def method_two(cls): # unbound method\n",
    "        print(\"Called method_two\")\n",
    "    @staticmethod\n",
    "    def method_three(): # static method\n",
    "        print(\"Called method_three\")\n",
    "\n",
    "a = test()\n",
    "a.method_one() # accessing through instance object\n",
    "a.method_two() # accessing through instance object\n",
    "test.method_two() # accessing directly through class\n",
    "test.method_three() # accessing directly through class"
   ]
  },
  {
   "cell_type": "markdown",
   "id": "d021563c",
   "metadata": {},
   "source": [
    "--------------------------------"
   ]
  },
  {
   "cell_type": "markdown",
   "id": "3db66701",
   "metadata": {},
   "source": [
    "Q5. What is the purpose of pseudoprivate attributes?"
   ]
  },
  {
   "cell_type": "markdown",
   "id": "be7a7d37",
   "metadata": {},
   "source": [
    "#ans:\n",
    "\n",
    "Pseudoprivate attributes are also useful in larger frameworks or tools, both to avoid introducing new method names that might accidentally hide definitions elsewhere in the class tree and to reduce the chance of internal methods being replaced by names defined lower in the tree. If a method is intended for use only within a class that may be mixed into other classes, the double underscore prefix ensures that the method won't interfere with other names in the tree, especially in multiple-inheritance scenarios\n",
    "\n",
    "Pseudoprivate names also prevent subclasses from accidentally redefining the internal method's names,"
   ]
  },
  {
   "cell_type": "code",
   "execution_count": 29,
   "id": "3c91ff4e",
   "metadata": {},
   "outputs": [],
   "source": [
    "class Super:\n",
    "    def method(self): # A real application method\n",
    "        pass\n",
    "class Tool:\n",
    "    def _method(self): # becomes _Tool_method\n",
    "        pass\n",
    "    def other(self): # uses internal method\n",
    "        self._method()\n",
    "class Subl(Tool,Super):\n",
    "    def actions(self):\n",
    "        self.method()\n",
    "class Sub2(Tool):\n",
    "    def __init__(self):\n",
    "        self.method = 10"
   ]
  },
  {
   "cell_type": "code",
   "execution_count": 33,
   "id": "54a30196",
   "metadata": {},
   "outputs": [
    {
     "data": {
      "text/plain": [
       "<bound method Tool.other of <__main__.Sub2 object at 0x000001DB1F4350A0>>"
      ]
     },
     "execution_count": 33,
     "metadata": {},
     "output_type": "execute_result"
    }
   ],
   "source": [
    "z = Sub2()\n",
    "z.other"
   ]
  }
 ],
 "metadata": {
  "kernelspec": {
   "display_name": "Python 3 (ipykernel)",
   "language": "python",
   "name": "python3"
  },
  "language_info": {
   "codemirror_mode": {
    "name": "ipython",
    "version": 3
   },
   "file_extension": ".py",
   "mimetype": "text/x-python",
   "name": "python",
   "nbconvert_exporter": "python",
   "pygments_lexer": "ipython3",
   "version": "3.9.12"
  }
 },
 "nbformat": 4,
 "nbformat_minor": 5
}
