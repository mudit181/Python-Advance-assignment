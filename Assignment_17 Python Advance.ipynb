{
 "cells": [
  {
   "cell_type": "markdown",
   "id": "5445956e",
   "metadata": {},
   "source": [
    "Q1. Explain the difference between greedy and non-greedy syntax with visual terms in as few words\n",
    "as possible. What is the bare minimum effort required to transform a greedy pattern into a non-greedy\n",
    "one? What characters or characters can you introduce or change?\n",
    "\n"
   ]
  },
  {
   "cell_type": "markdown",
   "id": "6e5a7af5",
   "metadata": {},
   "source": [
    "#ans:\n",
    "\n",
    "The Main difference between Greedy and Non Greedy Match Syntax is that the Greedy Match will try to match as many repetitions of the quantified pattern as possible Whereas the Non Greedy Match will try to match as few repetitions of the quantified pattern as possible so that it still can match the pattern in the given string"
   ]
  },
  {
   "cell_type": "code",
   "execution_count": 3,
   "id": "0206b2ad",
   "metadata": {},
   "outputs": [
    {
     "name": "stdout",
     "output_type": "stream",
     "text": [
      "['mmmmm', '']\n",
      "['', 'm', '', 'm', '', 'm', '', 'm', '', 'm', '']\n"
     ]
    }
   ],
   "source": [
    "import re\n",
    "print(re.findall(\"m*\", \"mmmmm\")) # Greedy Match Synatx\n",
    "print(re.findall(\"m*?\", \"mmmmm\")) # Non Greddy Syntax"
   ]
  },
  {
   "cell_type": "markdown",
   "id": "a9fe1082",
   "metadata": {},
   "source": [
    "----------------------------------"
   ]
  },
  {
   "cell_type": "markdown",
   "id": "deb590b8",
   "metadata": {},
   "source": [
    "Q2. When exactly does greedy versus non-greedy make a difference?  What if you&#39;re looking for a\n",
    "non-greedy match but the only one available is greedy?\n",
    "\n",
    "\n",
    "\n",
    "\n",
    "\n",
    "\n",
    "\n",
    "\n",
    "\n"
   ]
  },
  {
   "cell_type": "markdown",
   "id": "f692999e",
   "metadata": {},
   "source": [
    "#ans:\n",
    "\n",
    "The Greedy Match will try to match as many repetitions of the quantified pattern as possible. The Non Greedy Match will try to match as few repetitions of the quantified pattern as possible. If only Non Greedy Match is available, we can use other filtering or pattern matching methods of regex and further identify the required pattern."
   ]
  },
  {
   "cell_type": "markdown",
   "id": "3f944679",
   "metadata": {},
   "source": [
    "---------------------------------"
   ]
  },
  {
   "cell_type": "markdown",
   "id": "09cc9dc8",
   "metadata": {},
   "source": [
    "Q3. In a simple match of a string, which looks only for one match and does not do any replacement, is\n",
    "the use of a nontagged group likely to make any practical difference?\n"
   ]
  },
  {
   "cell_type": "code",
   "execution_count": 6,
   "id": "46430cb4",
   "metadata": {},
   "outputs": [
    {
     "name": "stdout",
     "output_type": "stream",
     "text": [
      "Phone number found -> 876\n",
      "Phone number found -> 876\n"
     ]
    }
   ],
   "source": [
    "#Ans: In this Case The Non Tagged Group will not make any diffrence in this case.\n",
    "\n",
    "import re\n",
    "phoneNumRegex = re.compile(r'\\d\\d\\d')\n",
    "num = phoneNumRegex.search('My number is 876-123-98021.')\n",
    "print(f'Phone number found -> {num.group()}') # Non Tagged group\n",
    "print(f'Phone number found -> {num.group(0)}') # Tagged Group"
   ]
  },
  {
   "cell_type": "markdown",
   "id": "6ebaaf06",
   "metadata": {},
   "source": [
    "------------------------------"
   ]
  },
  {
   "cell_type": "markdown",
   "id": "75bab51b",
   "metadata": {},
   "source": [
    "Q4. Describe a scenario in which using a nontagged category would have a significant impact on the\n",
    "program&#39;s outcomes.\n"
   ]
  },
  {
   "cell_type": "markdown",
   "id": "29322b48",
   "metadata": {},
   "source": [
    "#Ans:\n",
    "\n",
    "Here in the below Code Snippet . decimal is not tagged or captured. It will useful in scenarios where the separator of value in a string is of no use and we need to capture only the values."
   ]
  },
  {
   "cell_type": "code",
   "execution_count": 7,
   "id": "12cb6bce",
   "metadata": {},
   "outputs": [
    {
     "data": {
      "text/plain": [
       "('436', '024')"
      ]
     },
     "execution_count": 7,
     "metadata": {},
     "output_type": "execute_result"
    }
   ],
   "source": [
    "import re\n",
    "text='436.024'\n",
    "pattern=r'(\\d+)(?:.)(\\d+)'\n",
    "regobj=re.compile(pattern)\n",
    "matobj=regobj.search(text)\n",
    "matobj.groups()"
   ]
  },
  {
   "cell_type": "markdown",
   "id": "eb77ba3e",
   "metadata": {},
   "source": [
    "-------------------------------"
   ]
  },
  {
   "cell_type": "markdown",
   "id": "cdc975c8",
   "metadata": {},
   "source": [
    "Q5. Unlike a normal regex pattern, a look-ahead condition does not consume the characters it\n",
    "examines. Describe a situation in which this could make a difference in the results of your\n",
    "programme.\n"
   ]
  },
  {
   "cell_type": "markdown",
   "id": "31ca3297",
   "metadata": {},
   "source": [
    "#Ans: \n",
    "\n",
    "While counting the number of multiple lines or mutiple sentence in a string the positive look ahead makes a difference, without which we wont get the correct count of lines or sentences in a string."
   ]
  },
  {
   "cell_type": "markdown",
   "id": "87a37c6a",
   "metadata": {},
   "source": [
    "----------------------------"
   ]
  },
  {
   "cell_type": "markdown",
   "id": "e1a96bd0",
   "metadata": {},
   "source": [
    "Q6. In standard expressions, what is the difference between positive look-ahead and negative look-\n",
    "ahead?"
   ]
  },
  {
   "cell_type": "markdown",
   "id": "ba1ed342",
   "metadata": {},
   "source": [
    "#Ans:\n",
    "Positive Lookahead allows to add a condition for what follows. Negative Lookahead is similar, but it looks behind. That is, it allows to match a pattern only if there’s something before it."
   ]
  },
  {
   "cell_type": "markdown",
   "id": "5f4f0bb0",
   "metadata": {},
   "source": [
    "---------------------------"
   ]
  },
  {
   "cell_type": "markdown",
   "id": "7f1078dd",
   "metadata": {},
   "source": [
    "\n",
    "Q7. What is the benefit of referring to groups by name rather than by number in a standard\n",
    "expression?"
   ]
  },
  {
   "cell_type": "markdown",
   "id": "e49f9fb9",
   "metadata": {},
   "source": [
    "#ans:\n",
    "\n",
    "The advantage to named groups is that it adds readability and understandability to the code, so that you can easily see what part of a regular expression match is being referenced."
   ]
  },
  {
   "cell_type": "markdown",
   "id": "b27ef037",
   "metadata": {},
   "source": [
    "---------------------------------"
   ]
  },
  {
   "cell_type": "markdown",
   "id": "9d989e01",
   "metadata": {},
   "source": [
    "Q8. Can you identify repeated items within a target string using named groups, as in &quot;The cow\n",
    "jumped over the moon&quot;?"
   ]
  },
  {
   "cell_type": "code",
   "execution_count": 1,
   "id": "63d403b8",
   "metadata": {},
   "outputs": [
    {
     "data": {
      "text/plain": [
       "['The', 'the']"
      ]
     },
     "execution_count": 1,
     "metadata": {},
     "output_type": "execute_result"
    }
   ],
   "source": [
    "import re\n",
    "text = \"The cow jumped over the moon\"\n",
    "regobj=re.compile(r'(?P<w1>The)',re.I)\n",
    "regobj.findall(text)"
   ]
  },
  {
   "cell_type": "markdown",
   "id": "21d6389d",
   "metadata": {},
   "source": [
    "--------------------------"
   ]
  },
  {
   "cell_type": "markdown",
   "id": "531e30e4",
   "metadata": {},
   "source": [
    "\n",
    "Q9. When parsing a string, what is at least one thing that the Scanner interface does for you that the\n",
    "re.findall feature does not?"
   ]
  },
  {
   "cell_type": "markdown",
   "id": "a041191d",
   "metadata": {},
   "source": [
    "#ans:\n",
    "\n",
    "re.findall() module is used to search for all occurrences that match a given pattern. In contrast, re.search() will only return the first occurrence that matches the specified pattern. re.findall() will iterate over all the lines of the file and will return all non-overlapping matches of pattern in a single step."
   ]
  },
  {
   "cell_type": "markdown",
   "id": "5ce14b9b",
   "metadata": {},
   "source": [
    "----------------------------------"
   ]
  },
  {
   "cell_type": "markdown",
   "id": "9a93dbaf",
   "metadata": {},
   "source": [
    "\n",
    "Q10. Does a scanner object have to be named scanner?"
   ]
  },
  {
   "cell_type": "markdown",
   "id": "d9583b91",
   "metadata": {},
   "source": [
    "#ans:\n",
    "No, It may have any name. For example instead of naming Scanner object as scanner, we can name as sc"
   ]
  },
  {
   "cell_type": "code",
   "execution_count": null,
   "id": "8cfd98ec",
   "metadata": {},
   "outputs": [],
   "source": []
  }
 ],
 "metadata": {
  "kernelspec": {
   "display_name": "Python 3 (ipykernel)",
   "language": "python",
   "name": "python3"
  },
  "language_info": {
   "codemirror_mode": {
    "name": "ipython",
    "version": 3
   },
   "file_extension": ".py",
   "mimetype": "text/x-python",
   "name": "python",
   "nbconvert_exporter": "python",
   "pygments_lexer": "ipython3",
   "version": "3.9.12"
  }
 },
 "nbformat": 4,
 "nbformat_minor": 5
}
