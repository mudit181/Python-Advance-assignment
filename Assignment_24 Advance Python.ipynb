{
 "cells": [
  {
   "cell_type": "markdown",
   "id": "396f6046",
   "metadata": {},
   "source": [
    "Q1. Is it permissible to use several import statements to import the same module? What would the\n",
    "goal be? Can you think of a situation where it would be beneficial?\n",
    "\n"
   ]
  },
  {
   "cell_type": "markdown",
   "id": "24b36d60",
   "metadata": {},
   "source": [
    "#Ans: \n",
    "\n",
    "Yes, it is permissible to use several import statements to import the same module. It is used in case when we have to import multiple functions from same module."
   ]
  },
  {
   "cell_type": "markdown",
   "id": "189f8560",
   "metadata": {},
   "source": [
    "---------------------"
   ]
  },
  {
   "cell_type": "markdown",
   "id": "5092a6a3",
   "metadata": {},
   "source": [
    "Q2. What are some of a module&#39;s characteristics? (Name at least one.)\n",
    "\n",
    "\n"
   ]
  },
  {
   "cell_type": "markdown",
   "id": "c600ac1b",
   "metadata": {},
   "source": [
    "#ans: \n",
    "\n",
    "The following are some of a module's characteristics:\n",
    "\n",
    "__ name __ : It returns the name of the module\n",
    "\n",
    "__ doc__  : It denotes the documentation string line written in a module code.\n",
    "\n",
    "__ file__ : It holds the name and path of the module file from which it is loaded\n",
    "\n",
    "__ dict__ : It return a dictionary object of module attributes, functions and other definitions and their respective values"
   ]
  },
  {
   "cell_type": "markdown",
   "id": "ad9ba6ae",
   "metadata": {},
   "source": [
    "Q3. Circular importing, such as when two modules import each other, can lead to dependencies and\n",
    "bugs that aren&#39;t visible. How can you go about creating a program that avoids mutual importing?\n",
    "\n",
    "\n"
   ]
  },
  {
   "cell_type": "markdown",
   "id": "79b67536",
   "metadata": {},
   "source": [
    "#ans:\n",
    "\n",
    "Circular importing means importing the two modules in each other. If suppose we are wokring in MOD1.py file and it is importing some function say F2() from some other module say MOD2.PY file or we can do vice-versa. What will happen is: This will give an import error.\n",
    "\n",
    "This is because when we import F2() function from module MOD2.py, then this will execute MOD2.py file. And in MOD2.py file there is an another statement of importing MOD1.py module.\n",
    "\n",
    "This will result in endless loop. To avoid this error just do one thingWe can use if __ name__ == '__ main__'\n",
    "\n",
    "In the function, you can't directly refer to the function in the program. The addition of this sentence avoids the endless loop of the program ."
   ]
  },
  {
   "cell_type": "markdown",
   "id": "000f1427",
   "metadata": {},
   "source": [
    "--------------------------"
   ]
  },
  {
   "cell_type": "markdown",
   "id": "218454e7",
   "metadata": {},
   "source": [
    "Q4. Why is _ _all_ _ in Python?\n",
    "\n"
   ]
  },
  {
   "cell_type": "markdown",
   "id": "1275787a",
   "metadata": {},
   "source": [
    "#ans:\n",
    "It provides the list of all modules present in a library."
   ]
  },
  {
   "cell_type": "markdown",
   "id": "c086f870",
   "metadata": {},
   "source": [
    "-------------------------"
   ]
  },
  {
   "cell_type": "markdown",
   "id": "3308357f",
   "metadata": {},
   "source": [
    "Q5. In what situation is it useful to refer to the _ _name_ _ attribute or the string &#39;_ _main_ _&#39;?\n"
   ]
  },
  {
   "cell_type": "markdown",
   "id": "87487444",
   "metadata": {},
   "source": [
    "During the time of execution of the code, if we want to refer the module in which we are working on, then we use name attribute. In that case it will return the module in which we are working on. Suppose if the module is being imported from some other module, then name will have the name of that module from where the current module has been imported. The current module in which we are working is refer to the string __ main __.\n",
    "\n",
    "This built-in attributes prints the name of the class, type, function, method, descriptor, or generator instance.\n",
    "\n",
    "For example, if the python interpreter is running that module (the source file) as the main program, it sets the special name variable to have a value \"main\". If this file is being imported from another module, name will be set to the module's name."
   ]
  },
  {
   "cell_type": "markdown",
   "id": "c6e3597f",
   "metadata": {},
   "source": [
    "---------------------"
   ]
  },
  {
   "cell_type": "markdown",
   "id": "82551f32",
   "metadata": {},
   "source": [
    "\n",
    "Q6. What are some of the benefits of attaching a program counter to the RPN interpreter\n",
    "application, which interprets an RPN script line by line?"
   ]
  },
  {
   "cell_type": "markdown",
   "id": "37e2bab7",
   "metadata": {},
   "source": [
    "#ans:\n",
    "\n",
    "Whereas regular mathematical notation would require at least a recursive parser (think brackets, operator order, etc...), an RPN parser is basically a stack with a switch-like statement.\n",
    "\n",
    "RPN saves time and keystrokes. You avoid using and keeping track of parentheses while doing calculations. The process is similar to the way you learned math on paper.\n",
    "\n",
    "You can see the intermediary results as you perform your computations rather than just the answer at the end. This is extremely helpful for learning the logic. Math teachers are using this feature to improve student understanding of mathematics.\n",
    "\n",
    "An intermediate result allows the user to check the answer and correct errors more easily. It's easier to follow the stream of calculation. The user defines the priority of operators.\n",
    "\n",
    "RPN is logical because the user first gives the number and then tells what to do with it."
   ]
  },
  {
   "cell_type": "markdown",
   "id": "cef4ed09",
   "metadata": {},
   "source": [
    "-------------------------"
   ]
  },
  {
   "cell_type": "markdown",
   "id": "6de5f6d7",
   "metadata": {},
   "source": [
    "Q7. What are the minimum expressions or statements (or both) that you&#39;d need to render a basic\n",
    "programming language like RPN primitive but complete— that is, capable of carrying out any\n",
    "computerised task theoretically possible?"
   ]
  },
  {
   "cell_type": "markdown",
   "id": "e9fbade7",
   "metadata": {},
   "source": [
    "#ans:\n",
    "3 4 + -->post fix(which is use as RPN)\n",
    "\n",
    "3+4 -->infix\n",
    "\n",
    "+3 4 -->post fix"
   ]
  },
  {
   "cell_type": "code",
   "execution_count": 6,
   "id": "0a339c00",
   "metadata": {},
   "outputs": [
    {
     "name": "stdout",
     "output_type": "stream",
     "text": [
      "Value of given expression'10 6 9 3 + -11 * / * 17 + 5 +' = 22\n"
     ]
    }
   ],
   "source": [
    "def evaluate(expression):\n",
    "    expression = expression.split()\n",
    "    \n",
    "    stack = []\n",
    "    \n",
    "  # iterating expression\n",
    "    for ele in expression:\n",
    "        if ele not in '/*+-':\n",
    "            stack.append(int(ele))\n",
    "      \n",
    "    else:\n",
    "        right = stack.pop()\n",
    "        left = stack.pop()\n",
    "        \n",
    "      # performing operation according to operator\n",
    "    if ele == '+':\n",
    "        stack.append(left + right)\n",
    "          \n",
    "    elif ele == '-':\n",
    "        stack.append(left - right)\n",
    "          \n",
    "    elif ele == '*':\n",
    "        stack.append(left * right)\n",
    "          \n",
    "    elif ele == '/':\n",
    "        stack.append(int(left / right))\n",
    "    \n",
    "\n",
    "    return stack.pop()\n",
    "  \n",
    "# input expression\n",
    "arr = \"10 6 9 3 + -11 * / * 17 + 5 +\"\n",
    "  \n",
    "# calling evaluate()\n",
    "answer = evaluate(arr)\n",
    "# printing final value of the expression\n",
    "print(f\"Value of given expression'{arr}' = {answer}\")\n",
    "          "
   ]
  },
  {
   "cell_type": "markdown",
   "id": "ac6f51d4",
   "metadata": {},
   "source": [
    "-----------------------"
   ]
  },
  {
   "cell_type": "code",
   "execution_count": null,
   "id": "8768e188",
   "metadata": {},
   "outputs": [],
   "source": []
  }
 ],
 "metadata": {
  "kernelspec": {
   "display_name": "Python 3 (ipykernel)",
   "language": "python",
   "name": "python3"
  },
  "language_info": {
   "codemirror_mode": {
    "name": "ipython",
    "version": 3
   },
   "file_extension": ".py",
   "mimetype": "text/x-python",
   "name": "python",
   "nbconvert_exporter": "python",
   "pygments_lexer": "ipython3",
   "version": "3.9.12"
  }
 },
 "nbformat": 4,
 "nbformat_minor": 5
}
