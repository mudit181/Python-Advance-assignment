{
 "cells": [
  {
   "cell_type": "markdown",
   "id": "0d7f0e03",
   "metadata": {},
   "source": [
    "1. What is the concept of an abstract superclass?\n",
    "\n"
   ]
  },
  {
   "cell_type": "raw",
   "id": "e1a52130",
   "metadata": {},
   "source": [
    "#ans\n",
    "An abstract class/superclass can be considered as a blueprint for other classes. It allows us to create a set of methods that must be created within any child classes built from the abstract class. A class which contains one or more abstract methods is called an abstract class Whereas an abstract method is a method that has a declaration but does not have an implementation"
   ]
  },
  {
   "cell_type": "code",
   "execution_count": 1,
   "id": "c4661b9c",
   "metadata": {},
   "outputs": [],
   "source": [
    "from abc import ABC, abstractmethod\n",
    "class Polygon(ABC): # Abstract Class\n",
    "    @abstractmethod\n",
    "    def noofsides(self): # Abstract Method\n",
    "        pass\n",
    "class Triangle(Polygon):\n",
    "    def noofsides(self):  # overriding abstract method in child class Triangle\n",
    "        print(\"I have 3 sides\")\n",
    "class Pentagon(Polygon):\n",
    "    def noofsides(self): # overriding abstract method in child class Pentagon\n",
    "        print(\"I have 5 sides\")"
   ]
  },
  {
   "cell_type": "markdown",
   "id": "3084ecd3",
   "metadata": {},
   "source": [
    "2. What happens when a class statement&#39;s top level contains a basic assignment statement?\n"
   ]
  },
  {
   "cell_type": "raw",
   "id": "9a0b5c94",
   "metadata": {},
   "source": [
    "#Ans:\n",
    "When a Class statement's top level contains a basic assignment statement, its usually treated as a class attribute or class level variable.\n",
    "\n",
    "where as assignment statements inside methods are treated as instance attributes or local attributes.\n",
    "\n",
    "When an instance of a class is created a single copy of class attributes is maintained and shared to all instances of class. where as each instance object maintains its own copy of instance variables."
   ]
  },
  {
   "cell_type": "markdown",
   "id": "b2a68a6e",
   "metadata": {},
   "source": [
    "\n",
    "3. Why does a class need to manually call a superclass&#39;s __init__ method?\n"
   ]
  },
  {
   "cell_type": "raw",
   "id": "858a4630",
   "metadata": {},
   "source": [
    "#Ans:\n",
    "if a child class has __init__ method, then it will not inherit the __init__ method of the parent class. in other words the __init__ method of the child class overrides the __init__ method of the parent class. so we have to manually call a parent superclass's __init__ using super() method"
   ]
  },
  {
   "cell_type": "code",
   "execution_count": 4,
   "id": "e86f76cb",
   "metadata": {},
   "outputs": [],
   "source": [
    "class Person:\n",
    "    def __init__(self,name,age):\n",
    "        self.name = name\n",
    "        self.age = age       \n",
    "class Employee(Person):\n",
    "    def __init__(self,name,age,salary):\n",
    "        super().__init__(name,age)\n",
    "        self.salary = salary\n",
    "    def details(self):\n",
    "        print(f\" Name:{self.name}\\n age:{self.age}\\n salary {self.salary}\")\n",
    "a = Employee('Mudit',28,20000)\n"
   ]
  },
  {
   "cell_type": "code",
   "execution_count": 5,
   "id": "37fdc5ab",
   "metadata": {},
   "outputs": [
    {
     "name": "stdout",
     "output_type": "stream",
     "text": [
      " Name:Mudit\n",
      " age:28\n",
      " salary 20000\n"
     ]
    }
   ],
   "source": [
    "a.details()"
   ]
  },
  {
   "cell_type": "markdown",
   "id": "bf04f6b4",
   "metadata": {},
   "source": [
    "\n",
    "4. How can you augment, instead of completely replacing, an inherited method?\n"
   ]
  },
  {
   "cell_type": "code",
   "execution_count": null,
   "id": "2aa755f1",
   "metadata": {},
   "outputs": [],
   "source": [
    "# Ans: \n",
    "# super() method can be used to augment, instead of completely replacing, an inherited method."
   ]
  },
  {
   "cell_type": "code",
   "execution_count": 7,
   "id": "c5a1f7a2",
   "metadata": {},
   "outputs": [
    {
     "name": "stdout",
     "output_type": "stream",
     "text": [
      " Name:Mudit\n",
      " age:28\n",
      " salary 20000\n"
     ]
    }
   ],
   "source": [
    "class Person:\n",
    "    def __init__(self,name,age):\n",
    "        self.name = name\n",
    "        self.age = age       \n",
    "class Employee(Person):\n",
    "    def __init__(self,name,age,salary):\n",
    "        super().__init__(name,age)\n",
    "        self.salary = salary\n",
    "    def details(self):\n",
    "        print(f\" Name:{self.name}\\n age:{self.age}\\n salary {self.salary}\")\n",
    "a = Employee('Mudit',28,20000)\n",
    "\n",
    "a.details()"
   ]
  },
  {
   "cell_type": "markdown",
   "id": "031523b7",
   "metadata": {},
   "source": [
    "\n",
    "5. How is the local scope of a class different from that of a function?"
   ]
  },
  {
   "cell_type": "raw",
   "id": "27a85e97",
   "metadata": {},
   "source": [
    "#ans\n",
    "A Variable which is defined inside a function is local to that function. It is accesible only through the function and exists for as long as the function is existing."
   ]
  },
  {
   "cell_type": "code",
   "execution_count": 8,
   "id": "c92701f2",
   "metadata": {},
   "outputs": [],
   "source": [
    "# example:\n",
    "def test():\n",
    "    a = \"mudit\"\n",
    "    return a "
   ]
  },
  {
   "cell_type": "code",
   "execution_count": 9,
   "id": "c1b3c320",
   "metadata": {},
   "outputs": [
    {
     "data": {
      "text/plain": [
       "'mudit'"
      ]
     },
     "execution_count": 9,
     "metadata": {},
     "output_type": "execute_result"
    }
   ],
   "source": [
    "test()"
   ]
  },
  {
   "cell_type": "raw",
   "id": "7a8b1ccc",
   "metadata": {},
   "source": [
    "Variable inside of a class also has a local variable scope. Variables which are defined in the class body (but outside all methods) are called as class level variables or class attributes. They can be referenced by their bare names within the same scope, but they can also be accessed from outside this scope if we use the attribute access operator (.) on a class or an instance of the class."
   ]
  },
  {
   "cell_type": "code",
   "execution_count": 10,
   "id": "7fe184f0",
   "metadata": {},
   "outputs": [],
   "source": [
    "class car:\n",
    "    company = \"TATA\"\n",
    "    def __init__(self, modal, prise):\n",
    "        self.modal = modal\n",
    "        self.prise= prise\n",
    "    def details(self):\n",
    "        print(\"this is my car\")\n",
    "    "
   ]
  },
  {
   "cell_type": "code",
   "execution_count": 12,
   "id": "1394298c",
   "metadata": {},
   "outputs": [],
   "source": [
    "a= car(\"suv\", 2000000)"
   ]
  },
  {
   "cell_type": "code",
   "execution_count": 13,
   "id": "19c64caf",
   "metadata": {},
   "outputs": [
    {
     "data": {
      "text/plain": [
       "'TATA'"
      ]
     },
     "execution_count": 13,
     "metadata": {},
     "output_type": "execute_result"
    }
   ],
   "source": [
    "a.company   #company is local variable or also called class attribute"
   ]
  },
  {
   "cell_type": "code",
   "execution_count": 14,
   "id": "8192103c",
   "metadata": {},
   "outputs": [
    {
     "data": {
      "text/plain": [
       "2000000"
      ]
     },
     "execution_count": 14,
     "metadata": {},
     "output_type": "execute_result"
    }
   ],
   "source": [
    "a.prise    # prise is local variable from method attribute"
   ]
  },
  {
   "cell_type": "code",
   "execution_count": null,
   "id": "d95bf3e8",
   "metadata": {},
   "outputs": [],
   "source": []
  }
 ],
 "metadata": {
  "kernelspec": {
   "display_name": "Python 3 (ipykernel)",
   "language": "python",
   "name": "python3"
  },
  "language_info": {
   "codemirror_mode": {
    "name": "ipython",
    "version": 3
   },
   "file_extension": ".py",
   "mimetype": "text/x-python",
   "name": "python",
   "nbconvert_exporter": "python",
   "pygments_lexer": "ipython3",
   "version": "3.9.12"
  }
 },
 "nbformat": 4,
 "nbformat_minor": 5
}
